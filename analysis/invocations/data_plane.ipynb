{
 "cells": [
  {
   "cell_type": "code",
   "execution_count": 5,
   "id": "55288cff",
   "metadata": {
    "scrolled": true
   },
   "outputs": [
    {
     "name": "stdout",
     "output_type": "stream",
     "text": [
      "           time     size          type\n",
      "0     12.835100       10           aws\n",
      "1     12.211000       10           aws\n",
      "2     14.716300       10           aws\n",
      "3     10.705500       10           aws\n",
      "4     14.966000       10           aws\n",
      "..          ...      ...           ...\n",
      "495  115.205648  5242880  praas_remote\n",
      "496  126.025803  5242880  praas_remote\n",
      "497  116.787837  5242880  praas_remote\n",
      "498  126.596972  5242880  praas_remote\n",
      "499  115.458804  5242880  praas_remote\n",
      "\n",
      "[2000 rows x 3 columns]\n"
     ]
    },
    {
     "name": "stderr",
     "output_type": "stream",
     "text": [
      "/tmp/ipykernel_347403/869208817.py:12: MatplotlibDeprecationWarning: The seaborn styles shipped by Matplotlib are deprecated since 3.6, as they no longer correspond to the styles shipped by seaborn. However, they will remain available as 'seaborn-v0_8-<style>'. Alternatively, directly use the seaborn API instead.\n",
      "  plt.style.use('seaborn')\n"
     ]
    }
   ],
   "source": [
    "# Loading and parsing data\n",
    "\n",
    "# PLOT - parse data + std-dev\n",
    "import pandas as pd\n",
    "import numpy as np\n",
    "import os\n",
    "import matplotlib.pyplot as plt\n",
    "import seaborn as sns\n",
    "from matplotlib import ticker\n",
    "from scipy import stats\n",
    "\n",
    "plt.style.use('seaborn')\n",
    "sns.set(rc={'figure.figsize':(8,4)})\n",
    "sns.set_style(\"whitegrid\")\n",
    "\n",
    "data_path = os.path.join(os.path.pardir, os.path.pardir, 'osdi_2023', 'data_plane')\n",
    "sizes = [10, 1024, 102400, 1048576, 5242880]\n",
    "\n",
    "# read AWS data\n",
    "dfs = []\n",
    "for size in sizes:\n",
    "    data = pd.read_csv(os.path.join(data_path, 'lambda', f'result_{size}.csv'),names=['time'])\n",
    "    #data.set_index('id', drop=True, inplace=True)\n",
    "    data['size'] = size# * 1024\n",
    "    #data['time'] *= 1000\n",
    "    #data.rename(columns={\" usec\": \"time\"}, inplace=True)\n",
    "    #data['time'] *= 2\n",
    "    dfs.append(data)\n",
    "data_aws = pd.concat(dfs, axis=0)\n",
    "data_aws['type'] = 'aws'\n",
    "\n",
    "\n",
    "# read AWS data\n",
    "dfs = []\n",
    "for size in sizes:\n",
    "    data = pd.read_csv(os.path.join(data_path, 'knative', f'result_{size}.csv'),names=['time'])\n",
    "    #data.set_index('id', drop=True, inplace=True)\n",
    "    data['size'] = size# * 1024\n",
    "    #data['time'] *= 1000\n",
    "    #data.rename(columns={\" usec\": \"time\"}, inplace=True)\n",
    "    #data['time'] *= 2\n",
    "    dfs.append(data)\n",
    "data_knative = pd.concat(dfs, axis=0)\n",
    "data_knative['type'] = 'knative'\n",
    "\n",
    "# read Ethernet\n",
    "dfs = []\n",
    "for size in sizes:\n",
    "    data = pd.read_csv(os.path.join(data_path, 'ethernet', f'ethernet_{size}'),skiprows=1)\n",
    "    data['size'] = size\n",
    "    data['time'] = data['Mean Latency Microseconds'] / 1000.0\n",
    "    dfs.append(data)\n",
    "ethernet_data = pd.concat(dfs, axis=0)\n",
    "ethernet_data['type'] = 'ethernet'\n",
    "\n",
    "# read praas data\n",
    "#for size in sizes:\n",
    "data = pd.read_csv(os.path.join(data_path, 'praas_local', 'dataplane_sizes_fargate_local.csv'))\n",
    "#data.set_index('id', drop=True, inplace=True)\n",
    "data['time'] /= 1000.0 * 1000.0\n",
    "data['type'] = 'praas_local'\n",
    "data.drop(['repetition'], axis=1, inplace=True)\n",
    "\n",
    "\n",
    "\n",
    "\n",
    "data_remote = pd.read_csv(os.path.join(data_path, 'praas_remote', 'dataplane_sizes_fargate.csv'))\n",
    "#data.set_index('id', drop=True, inplace=True)\n",
    "data_remote['time'] /= 1000.0 * 1000.0\n",
    "data_remote['type'] = 'praas_remote'\n",
    "data_remote.drop(['repetition'], axis=1, inplace=True)\n",
    "\n",
    "                   \n",
    "data_praas = pd.concat([data_aws, data, data_knative, data_remote], axis=0)\n",
    "print(data_praas)"
   ]
  },
  {
   "cell_type": "code",
   "execution_count": 8,
   "id": "367e0c3b",
   "metadata": {},
   "outputs": [
    {
     "data": {
      "text/plain": [
       "type      size   \n",
       "ethernet  10          0.72507\n",
       "          1024        0.74208\n",
       "          102400      1.31364\n",
       "          1048576    12.92857\n",
       "          5242880    95.81304\n",
       "Name: time, dtype: float64"
      ]
     },
     "execution_count": 8,
     "metadata": {},
     "output_type": "execute_result"
    }
   ],
   "source": [
    "ethernet_data.groupby(['type', 'size'])['time'].mean()"
   ]
  },
  {
   "cell_type": "code",
   "execution_count": 7,
   "id": "cf3b89ec",
   "metadata": {},
   "outputs": [
    {
     "data": {
      "text/plain": [
       "type          size   \n",
       "aws           10          13.853293\n",
       "              1024        12.952736\n",
       "              102400      18.915851\n",
       "              1048576     77.518598\n",
       "              5242880    373.221130\n",
       "knative       10           3.331746\n",
       "              1024         5.141168\n",
       "              102400       4.980325\n",
       "              1048576     14.166628\n",
       "              5242880     45.726643\n",
       "praas_local   10           0.076789\n",
       "              1024         0.077064\n",
       "              102400       0.359656\n",
       "              1048576      4.212582\n",
       "              5242880     21.362377\n",
       "praas_remote  10           0.810820\n",
       "              1024         0.842553\n",
       "              102400       1.716900\n",
       "              1048576     12.711221\n",
       "              5242880    116.929634\n",
       "Name: time, dtype: float64"
      ]
     },
     "execution_count": 7,
     "metadata": {},
     "output_type": "execute_result"
    }
   ],
   "source": [
    "data_praas.groupby(['type', 'size'])['time'].mean()"
   ]
  },
  {
   "cell_type": "code",
   "execution_count": 3,
   "id": "4e43b293",
   "metadata": {},
   "outputs": [],
   "source": [
    "def p50_estimator(x):\n",
    "    return np.percentile(x, 50)\n",
    "def p95_estimator(x):\n",
    "    return np.percentile(x, 95)\n",
    "def p99_estimator(x):\n",
    "    return np.percentile(x, 99)"
   ]
  },
  {
   "cell_type": "code",
   "execution_count": 6,
   "id": "eaf40dd9",
   "metadata": {},
   "outputs": [
    {
     "name": "stderr",
     "output_type": "stream",
     "text": [
      "/tmp/ipykernel_347403/363039557.py:7: UserWarning: The palette list has more values (8) than needed (3), which may not be intended.\n",
      "  sns.barplot(\n",
      "/tmp/ipykernel_347403/363039557.py:51: UserWarning: FixedFormatter should only be used together with FixedLocator\n",
      "  ax.set_xticklabels(['10B', '10 KiB', '100 KiB', '1 MiB', '5 MiB'])\n"
     ]
    },
    {
     "name": "stdout",
     "output_type": "stream",
     "text": [
      "[0.7250700000000001, 0.7420800000000001, 1.3136400000000001, 12.92857, 95.81303999999999]\n"
     ]
    },
    {
     "data": {
      "image/png": "[encoded data removed]",
      "text/plain": [
       "<Figure size 800x400 with 1 Axes>"
      ]
     },
     "metadata": {},
     "output_type": "display_data"
    }
   ],
   "source": [
    "\n",
    "ax = plt.gca()\n",
    "\n",
    "\n",
    "color = ['green','orange','red','blue','limegreen','darkgreen','royalblue','navy']\n",
    "\n",
    "\n",
    "sns.barplot(\n",
    "    data=data_praas,\n",
    "    x=\"size\", y=\"time\", hue=\"type\", hue_order=[\"praas_local\", \"praas_remote\", \"aws\"],\n",
    "    errorbar=\"sd\", alpha=.6,#, height=6,\n",
    "    estimator=p50_estimator, palette=color,\n",
    "    ax=ax\n",
    ")\n",
    "\n",
    "prop = dict(arrowstyle=\"-|>,head_width=0.4,head_length=0.8\",color='black',shrinkA=0,shrinkB=0)\n",
    "\n",
    "#plt.annotate(\"\", ha='left',xy=(0.1,2), xytext=(0.3,25), arrowprops=prop)\n",
    "#ax.arrow(0.3, 25, -0.2, -23, head_width=0.1, head_length=0.4, fc='k', ec='k')\n",
    "#plt.annotate(\"94% Reduction\", ha='left',xy=(0,25), xytext=(0,25))\n",
    "#plt.annotate(\"\", ha='left',xy=(1.1,2), xytext=(1.3,25), arrowprops=prop)\n",
    "#ax.arrow(0.3, 25, -0.2, -23, head_width=0.1, head_length=0.4, fc='k', ec='k')\n",
    "#plt.annotate(\"93% Reduction\", ha='left',xy=(1,25), xytext=(1,25))\n",
    "\n",
    "\n",
    "#plt.annotate(\"94%, 93%, 91%, 83% and 69% latency reduction against Lambda\", ha='left',xy=(-0.5,150), xytext=(-0.5,150))\n",
    "#plt.annotate(\"\", ha='left',xy=(1.1,2), xytext=(1.1,100), arrowprops=prop)\n",
    "#plt.annotate(\"\", ha='left',xy=(0.1,2), xytext=(0.1,100), arrowprops=prop)\n",
    "#plt.annotate(\"\", ha='left',xy=(2.1,2), xytext=(2.1,100), arrowprops=prop)\n",
    "#plt.annotate(\"\", ha='left',xy=(3.1,2), xytext=(3.1,100), arrowprops=prop)\n",
    "\n",
    "i = 0\n",
    "lats = []\n",
    "for size in [10, 1024, 102400, 1048576, 5242880]:\n",
    "    lat = ethernet_data.loc[(ethernet_data['type'] == 'ethernet') & (ethernet_data['size'] == size)]['time'].median()\n",
    "    lats.append(lat)\n",
    "    \n",
    "print(lats)\n",
    "ax.axhline(xmin=0.02 + i, xmax = 0.18 + i, y=lats[0], color='black', linestyle='--')\n",
    "ax.axhline(xmin=0.22 + i, xmax = 0.38 + i, y=lats[1], color='black', linestyle='--')\n",
    "ax.axhline(xmin=0.42 + i, xmax = 0.58 + i, y=lats[2], color='black', linestyle='--')\n",
    "ax.axhline(xmin=0.62 + i, xmax = 0.78 + i, y=lats[3], color='black', linestyle='--')\n",
    "ax.axhline(xmin=0.82 + i, xmax = 0.98 + i, y=lats[4], color='black', linestyle='--')\n",
    "    \n",
    "\n",
    "#ax.despine(left=True)\n",
    "ax.set_yscale(\"log\")\n",
    "ax.set_xlabel('Message size [bytes]',fontsize=16)\n",
    "ax.set_ylabel('Invocation Time [msec]',fontsize=16)\n",
    "ax.set_title(\"\")\n",
    "\n",
    "ax.set_xticklabels(['10B', '10 KiB', '100 KiB', '1 MiB', '5 MiB'])\n",
    "\n",
    "import copy\n",
    "import matplotlib.patches as mpatches\n",
    "\n",
    "from matplotlib.lines import Line2D\n",
    "#p = copy.copy(ax.get_legend_handles_labels()[0][0])\n",
    "#print(dir(p.patches[0]))\n",
    "#print(p.patches[1].set_color('black'))\n",
    "#print(p.patches[2])\n",
    "#print(p.patches[3])\n",
    "#print(p.patches[4])\n",
    "#print(ax.get_legend_handles_labels()[0][0].patches\n",
    "p = Line2D([0], [0], color='black', ls='--',lw=2, label='black')\n",
    "red_patch = mpatches.Patch(color='black', label='The red data')\n",
    "ax.legend(loc='center', bbox_to_anchor=(0.45, -0.23),\n",
    "    handles=[p, *ax.get_legend_handles_labels()[0]],\n",
    "    labels=['TCP (baseline)', 'PraaS (Local)', 'PraaS (Remote)', 'AWS Lambda'],\n",
    "    ncols=4        \n",
    ")\n",
    "\n",
    "import scienceplots\n",
    "\n",
    "#plt.style.use([\"science\", \"high-contrast\", \"ieee\"])\n",
    "ax.figure.savefig(\"dataplane_latency.pdf\",bbox_inches='tight',pad_inches = 0, transparent=False)"
   ]
  },
  {
   "cell_type": "code",
   "execution_count": 4,
   "id": "9dd84186",
   "metadata": {},
   "outputs": [
    {
     "name": "stdout",
     "output_type": "stream",
     "text": [
      "10 remote 0.9423401649769251\n",
      "1024 remote 0.9335086983197103\n",
      "102400 remote 0.9126346503053981\n",
      "1048576 remote 0.8318812428026492\n",
      "5242880 remote 0.6861301520930019\n",
      "\n",
      "10 local 0.9946713543370035\n",
      "1024 local 0.9941360856571734\n",
      "102400 local 0.980753920651516\n",
      "1048576 local 0.9445575295285682\n",
      "5242880 local 0.9423543480434953\n"
     ]
    }
   ],
   "source": [
    "for size in [10, 1024, 102400, 1048576, 5242880]:\n",
    "    #print('Warm Latency', data_praas.loc[(data_praas['type'] == 'praas_local') & (data_praas['size'] == size)]['time'].median())\n",
    "    #print('Hot Latency', data_praas.loc[(data_praas['type'] == 'praas_remote') & (data_praas['size'] == size)]['time'].median())\n",
    "    #print('AWS', data_praas.loc[(data_praas['type'] == 'aws') & (data_praas['size'] == size)]['time'].median())\n",
    "    print(size, 'remote', 1-(data_praas.loc[(data_praas['type'] == 'praas_remote') & (data_praas['size'] == size)]['time'].median()/data_praas.loc[(data_praas['type'] == 'aws') & (data_praas['size'] == size)]['time'].median()))\n",
    "    \n",
    "print('')\n",
    "\n",
    "\n",
    "for size in [10, 1024, 102400, 1048576, 5242880]:\n",
    "    #print('Warm Latency', data_praas.loc[(data_praas['type'] == 'praas_local') & (data_praas['size'] == size)]['time'].median())\n",
    "    #print('Hot Latency', data_praas.loc[(data_praas['type'] == 'praas_remote') & (data_praas['size'] == size)]['time'].median())\n",
    "    #print('AWS', data_praas.loc[(data_praas['type'] == 'aws') & (data_praas['size'] == size)]['time'].median())\n",
    "    print(size, 'local', 1-(data_praas.loc[(data_praas['type'] == 'praas_local') & (data_praas['size'] == size)]['time'].median()/data_praas.loc[(data_praas['type'] == 'aws') & (data_praas['size'] == size)]['time'].median()))"
   ]
  },
  {
   "cell_type": "code",
   "execution_count": 5,
   "id": "acc7f91b",
   "metadata": {},
   "outputs": [
    {
     "name": "stdout",
     "output_type": "stream",
     "text": [
      "0.0637885 0.07331950000000001\n",
      "1CPU 0.06796282025927636\n",
      "Docker 1.1494156470210148\n",
      "0.0659865 0.0740715\n",
      "1CPU 0.07297003570874083\n",
      "Docker 1.1225250619444886\n",
      "0.294107 0.34975900000000004\n",
      "1CPU 0.13810509522271064\n",
      "Docker 1.1892236498961264\n",
      "3.2509865 4.19101\n",
      "1CPU 0.11862104838690435\n",
      "Docker 1.289150231783491\n",
      "17.2484045 21.327219499999998\n",
      "1CPU 0.07364070595325367\n",
      "Docker 1.2364749156943762\n"
     ]
    }
   ],
   "source": [
    "\n",
    "data_docker = pd.read_csv(os.path.join(data_path, 'praas_local', 'dataplane_sizes_fargate_local_docker.csv'))\n",
    "#data.set_index('id', drop=True, inplace=True)\n",
    "data_docker['time'] /= 1000.0 * 1000.0\n",
    "data_docker['type'] = 'praas_local'\n",
    "data_docker.drop(['repetition'], axis=1, inplace=True)\n",
    "\n",
    "data_cpu = pd.read_csv(os.path.join(data_path, 'praas_local', 'dataplane_sizes_fargate_local_1cpu.csv'))\n",
    "#data.set_index('id', drop=True, inplace=True)\n",
    "data_cpu['time'] /= 1000.0 * 1000.0\n",
    "data_cpu['type'] = 'praas_local'\n",
    "data_cpu.drop(['repetition'], axis=1, inplace=True)\n",
    "\n",
    "for size in [10, 1024, 102400, 1048576, 5242880]:\n",
    "    #print('Warm Latency', data_praas.loc[(data_praas['type'] == 'praas_local') & (data_praas['size'] == size)]['time'].median())\n",
    "    #print('Hot Latency', data_praas.loc[(data_praas['type'] == 'praas_remote') & (data_praas['size'] == size)]['time'].median())\n",
    "    #print('AWS', data_praas.loc[(data_praas['type'] == 'aws') & (data_praas['size'] == size)]['time'].median())\n",
    "    \n",
    "    local = data_praas.loc[(data_praas['type'] == 'praas_local') & (data_praas['size'] == size)]['time'].median()\n",
    "    cpu = data_cpu.loc[(data_cpu['type'] == 'praas_local') & (data_cpu['size'] == size)]['time'].median()\n",
    "    docker = data_docker.loc[(data_docker['type'] == 'praas_local') & (data_docker['size'] == size)]['time'].median()\n",
    "    print(docker, local)\n",
    "    print('1CPU', 1 - cpu/local)\n",
    "    print('Docker', local/docker)\n",
    "    "
   ]
  },
  {
   "cell_type": "code",
   "execution_count": null,
   "id": "9dba8a00",
   "metadata": {},
   "outputs": [],
   "source": []
  }
 ],
 "metadata": {
  "kernelspec": {
   "display_name": "Python 3 (ipykernel)",
   "language": "python",
   "name": "python3"
  },
  "language_info": {
   "codemirror_mode": {
    "name": "ipython",
    "version": 3
   },
   "file_extension": ".py",
   "mimetype": "text/x-python",
   "name": "python",
   "nbconvert_exporter": "python",
   "pygments_lexer": "ipython3",
   "version": "3.10.14"
  }
 },
 "nbformat": 4,
 "nbformat_minor": 5
}
